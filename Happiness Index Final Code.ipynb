{
 "cells": [
  {
   "cell_type": "code",
   "execution_count": 1,
   "id": "c89481cb",
   "metadata": {},
   "outputs": [],
   "source": [
    "#importing the libraries to get the plots \n",
    "import matplotlib.pyplot as plt \n",
    "%matplotlib inline \n",
    "import numpy as np \n",
    "import pandas as pd \n",
    "import seaborn as sns \n",
    "import plotly.graph_objects as go\n",
    "from sklearn.linear_model import LogisticRegression\n",
    "from sklearn.model_selection import train_test_split\n",
    "from sklearn.metrics import roc_auc_score, accuracy_score, confusion_matrix\n",
    "from sklearn.ensemble import RandomForestRegressor\n",
    "import plotly.express as px\n"
   ]
  },
  {
   "cell_type": "code",
   "execution_count": 2,
   "id": "9b8ef87c",
   "metadata": {},
   "outputs": [],
   "source": [
    "#style parameters to design our plots accordingly \n",
    "sns.set_style('whitegrid') #we have set the grid background to be plain white \n",
    "plt.rcParams['font.size']=18 #font to be used in the grid  \n",
    "plt.rcParams['figure.figsize']=(15,8) #length and height of the grid \n",
    "plt.rcParams['figure.facecolor']='#ffffff'#color below the grid; this code is of burlywood1 color "
   ]
  },
  {
   "cell_type": "code",
   "execution_count": 3,
   "id": "0de6d41a",
   "metadata": {},
   "outputs": [],
   "source": [
    "#reading and loading the dataset in the jupyter notebook \n",
    "data_set= pd.read_csv(\"C:/Users/siddg/OneDrive/Desktop/EM 623 Final Project/world-happiness-report-2021.csv\")"
   ]
  },
  {
   "cell_type": "code",
   "execution_count": 4,
   "id": "6252f945",
   "metadata": {
    "scrolled": true
   },
   "outputs": [
    {
     "data": {
      "text/html": [
       "<div>\n",
       "<style scoped>\n",
       "    .dataframe tbody tr th:only-of-type {\n",
       "        vertical-align: middle;\n",
       "    }\n",
       "\n",
       "    .dataframe tbody tr th {\n",
       "        vertical-align: top;\n",
       "    }\n",
       "\n",
       "    .dataframe thead th {\n",
       "        text-align: right;\n",
       "    }\n",
       "</style>\n",
       "<table border=\"1\" class=\"dataframe\">\n",
       "  <thead>\n",
       "    <tr style=\"text-align: right;\">\n",
       "      <th></th>\n",
       "      <th>country_name</th>\n",
       "      <th>regional_indicator</th>\n",
       "      <th>happiness_score</th>\n",
       "      <th>logged_percapita</th>\n",
       "      <th>social_support</th>\n",
       "      <th>health_life</th>\n",
       "      <th>freedom_lifechoices</th>\n",
       "      <th>generosity</th>\n",
       "      <th>perception_corruption</th>\n",
       "    </tr>\n",
       "  </thead>\n",
       "  <tbody>\n",
       "    <tr>\n",
       "      <th>0</th>\n",
       "      <td>Finland</td>\n",
       "      <td>Western Europe</td>\n",
       "      <td>7.842</td>\n",
       "      <td>10.775</td>\n",
       "      <td>0.954</td>\n",
       "      <td>72.0</td>\n",
       "      <td>0.949</td>\n",
       "      <td>-0.098</td>\n",
       "      <td>0.186</td>\n",
       "    </tr>\n",
       "    <tr>\n",
       "      <th>1</th>\n",
       "      <td>Denmark</td>\n",
       "      <td>Western Europe</td>\n",
       "      <td>7.620</td>\n",
       "      <td>10.933</td>\n",
       "      <td>0.954</td>\n",
       "      <td>72.7</td>\n",
       "      <td>0.946</td>\n",
       "      <td>0.030</td>\n",
       "      <td>0.179</td>\n",
       "    </tr>\n",
       "    <tr>\n",
       "      <th>2</th>\n",
       "      <td>Switzerland</td>\n",
       "      <td>Western Europe</td>\n",
       "      <td>7.571</td>\n",
       "      <td>11.117</td>\n",
       "      <td>0.942</td>\n",
       "      <td>74.4</td>\n",
       "      <td>0.919</td>\n",
       "      <td>0.025</td>\n",
       "      <td>0.292</td>\n",
       "    </tr>\n",
       "    <tr>\n",
       "      <th>3</th>\n",
       "      <td>Iceland</td>\n",
       "      <td>Western Europe</td>\n",
       "      <td>7.554</td>\n",
       "      <td>10.878</td>\n",
       "      <td>0.983</td>\n",
       "      <td>73.0</td>\n",
       "      <td>0.955</td>\n",
       "      <td>0.160</td>\n",
       "      <td>0.673</td>\n",
       "    </tr>\n",
       "    <tr>\n",
       "      <th>4</th>\n",
       "      <td>Netherlands</td>\n",
       "      <td>Western Europe</td>\n",
       "      <td>7.464</td>\n",
       "      <td>10.932</td>\n",
       "      <td>0.942</td>\n",
       "      <td>72.4</td>\n",
       "      <td>0.913</td>\n",
       "      <td>0.175</td>\n",
       "      <td>0.338</td>\n",
       "    </tr>\n",
       "  </tbody>\n",
       "</table>\n",
       "</div>"
      ],
      "text/plain": [
       "  country_name regional_indicator  happiness_score  logged_percapita  \\\n",
       "0      Finland     Western Europe            7.842            10.775   \n",
       "1      Denmark     Western Europe            7.620            10.933   \n",
       "2  Switzerland     Western Europe            7.571            11.117   \n",
       "3      Iceland     Western Europe            7.554            10.878   \n",
       "4  Netherlands     Western Europe            7.464            10.932   \n",
       "\n",
       "   social_support  health_life  freedom_lifechoices  generosity  \\\n",
       "0           0.954         72.0                0.949      -0.098   \n",
       "1           0.954         72.7                0.946       0.030   \n",
       "2           0.942         74.4                0.919       0.025   \n",
       "3           0.983         73.0                0.955       0.160   \n",
       "4           0.942         72.4                0.913       0.175   \n",
       "\n",
       "   perception_corruption  \n",
       "0                  0.186  \n",
       "1                  0.179  \n",
       "2                  0.292  \n",
       "3                  0.673  \n",
       "4                  0.338  "
      ]
     },
     "execution_count": 4,
     "metadata": {},
     "output_type": "execute_result"
    }
   ],
   "source": [
    "data_set_columns = ['Country name','Regional indicator','Ladder score','Logged GDP per capita','Social support','Healthy life expectancy','Freedom to make life choices','Generosity','Perceptions of corruption']\n",
    "data_set = data_set[data_set_columns].copy()\n",
    "df_happy1 = data_set.rename({'Country name':'country_name','Regional indicator':'regional_indicator','Ladder score':'happiness_score','Logged GDP per capita':'logged_percapita','Social support':'social_support','Healthy life expectancy':'health_life','Freedom to make life choices':'freedom_lifechoices','Generosity':'generosity','Perceptions of corruption':'perception_corruption'}, axis=1)\n",
    "df_happy1.head()"
   ]
  },
  {
   "cell_type": "code",
   "execution_count": 5,
   "id": "08bcedf7",
   "metadata": {},
   "outputs": [
    {
     "data": {
      "text/plain": [
       "country_name             0\n",
       "regional_indicator       0\n",
       "happiness_score          0\n",
       "logged_percapita         0\n",
       "social_support           0\n",
       "health_life              0\n",
       "freedom_lifechoices      0\n",
       "generosity               0\n",
       "perception_corruption    0\n",
       "dtype: int64"
      ]
     },
     "execution_count": 5,
     "metadata": {},
     "output_type": "execute_result"
    }
   ],
   "source": [
    "#Viewing the changes to the dataset made \n",
    "df_happy1.head()\n",
    "#type(data_set)\n",
    "df_happy1.isnull().sum() #checking whether any column has null or blank; if Boolean False appears in table which infers no null values in any column "
   ]
  },
  {
   "cell_type": "code",
   "execution_count": 6,
   "id": "19556b19",
   "metadata": {
    "scrolled": true
   },
   "outputs": [
    {
     "data": {
      "text/plain": [
       "Text(0, 0.5, '')"
      ]
     },
     "execution_count": 6,
     "metadata": {},
     "output_type": "execute_result"
    },
    {
     "data": {
      "image/png": "[encoded data removed]",
      "text/plain": [
       "<Figure size 1080x576 with 1 Axes>"
      ]
     },
     "metadata": {},
     "output_type": "display_data"
    }
   ],
   "source": [
    "#Plot between regions and GDP by percentage ; contribution to World Economy \n",
    "GDP_column= df_happy1.groupby('regional_indicator')['logged_percapita'].mean()\n",
    "GDP_column \n",
    "GDP_column.plot.pie(autopct= '%1.1f%%')\n",
    "plt.title(\"GDP of Regions\")\n",
    "plt.ylabel('')"
   ]
  },
  {
   "cell_type": "code",
   "execution_count": 7,
   "id": "b9ce6b74",
   "metadata": {},
   "outputs": [
    {
     "ename": "SyntaxError",
     "evalue": "invalid syntax (Temp/ipykernel_1612/3801584337.py, line 3)",
     "output_type": "error",
     "traceback": [
      "\u001b[1;36m  File \u001b[1;32m\"C:\\Users\\siddg\\AppData\\Local\\Temp/ipykernel_1612/3801584337.py\"\u001b[1;36m, line \u001b[1;32m3\u001b[0m\n\u001b[1;33m    print(total_countries)s\u001b[0m\n\u001b[1;37m                          ^\u001b[0m\n\u001b[1;31mSyntaxError\u001b[0m\u001b[1;31m:\u001b[0m invalid syntax\n"
     ]
    }
   ],
   "source": [
    "#total countries\n",
    "total_countries = df_happy1.groupby(\"regional_indicator\")[(\"country_name\")].count()\n",
    "print(total_countries)s"
   ]
  },
  {
   "cell_type": "code",
   "execution_count": null,
   "id": "4d1be6b3",
   "metadata": {
    "scrolled": true
   },
   "outputs": [],
   "source": [
    "# Creating a new DataFrame with the mean happiness score  and GDP per capita by region\n",
    "df_grouped = df_happy1.groupby(\"regional_indicator\")[[ \"social_support\"]].mean().reset_index()\n",
    "\n",
    "# Creating the donut chart\n",
    "fig = go.Figure(data=go.Pie(\n",
    "    labels=df_grouped[\"regional_indicator\"],\n",
    "    values=df_grouped[\"social_support\"],\n",
    "    hole=0.4,\n",
    "    textinfo=\"label+percent\",\n",
    "    textposition=\"inside\",\n",
    "    marker=dict(colors=px.colors.qualitative.Pastel)\n",
    "))\n",
    "\n",
    "# layout modulation\n",
    "fig.update_layout(\n",
    "    title=\"Social support in Various Regions\",\n",
    "    annotations=[dict(text=\" \", x=0.5, y=0.5, font_size=25, showarrow=False)]\n",
    ")\n",
    "\n",
    "fig.show()"
   ]
  },
  {
   "cell_type": "code",
   "execution_count": null,
   "id": "895fcf79",
   "metadata": {
    "scrolled": true
   },
   "outputs": [],
   "source": [
    "#Total countries\n",
    "total_country=df_happy1.groupby('regional_indicator')[['country_name']].count()\n",
    "#print(total_country)\n",
    "cor= df_happy1.corr(method='pearson')\n",
    "f, ax = plt.subplots(figsize =(10,5))\n",
    "sns.heatmap(cor, mask= np.zeros_like(cor , dtype= np.bool),\n",
    "            cmap= 'Blues', square= True ,ax=ax)"
   ]
  },
  {
   "cell_type": "code",
   "execution_count": null,
   "id": "9fda308a",
   "metadata": {
    "scrolled": true
   },
   "outputs": [],
   "source": [
    "#corruption in regions\n",
    "corruption= df_happy1.groupby('regional_indicator')[['perception_corruption']].mean()\n",
    "#corruption\n",
    "plt.rcParams['figure.figsize']=(12,8)\n",
    "plt.title('Perception of Corruption in various Regions ')\n",
    "plt.xlabel('Regions', fontsize= 15)\n",
    "plt.ylabel('Corruption Index', fontsize=15)\n",
    "plt.xticks(rotation =30,ha='right')\n",
    "plt.bar(corruption.index, corruption.perception_corruption)"
   ]
  },
  {
   "cell_type": "code",
   "execution_count": null,
   "id": "d478da13",
   "metadata": {},
   "outputs": [],
   "source": [
    "top_10=df_happy1.head(10)\n",
    "bottom_10=df_happy1.tail(10)\n",
    "\n",
    "fig,axes = plt.subplots(1,2, figsize =(16,6))\n",
    "plt.tight_layout(pad= 2)\n",
    "xlabels= top_10.country_name\n",
    "axes[0].set_title('Top 10 happiest countries life Expenctancy')\n",
    "axes[0].set_xticklabels(xlabels, rotation=45, ha='right')\n",
    "sns.barplot(x=top_10.country_name,y= top_10.health_life, ax=axes[0])\n",
    "axes[0].set_xlabel('Country Name')\n",
    "axes[0].set_ylabel('Life Expectancy')\n",
    "\n",
    "xlabels= bottom_10.country_name\n",
    "axes[1].set_title('Bottom 10 happiest countries life Expenctancy')\n",
    "axes[1].set_xticklabels(xlabels, rotation=45, ha='right')\n",
    "sns.barplot(x=bottom_10.country_name,y= bottom_10.health_life, ax=axes[1])\n",
    "axes[1].set_xlabel('Country Name')\n",
    "axes[1].set_ylabel('Life Expectancy')\n",
    "fig.set_facecolor('#e5e5e5')"
   ]
  },
  {
   "cell_type": "code",
   "execution_count": null,
   "id": "58ec0317",
   "metadata": {},
   "outputs": [],
   "source": [
    "#Corelation between Freedom to make life choices and Happiness\n",
    "plt.rcParams['figure.figsize']= (15,7)\n",
    "sns.scatterplot(x=df_happy1.freedom_lifechoices,y=df_happy1.happiness_score, hue=df_happy1.regional_indicator, s=200)\n",
    "plt.legend(loc='upper left', fontsize='12')\n",
    "plt.xlabel('Freedom to make life choices')\n",
    "plt.ylabel('Happiness Score')"
   ]
  },
  {
   "cell_type": "code",
   "execution_count": null,
   "id": "0b3e0b96",
   "metadata": {},
   "outputs": [],
   "source": [
    "# Filter the data for the countries with the top 10 highest perception of corruption scores\n",
    "top_10 = df_happy1.sort_values(\"perception_corruption\", ascending=False).head(10)\n",
    "\n",
    "# Set the style of the plot\n",
    "sns.set_style(\"whitegrid\")\n",
    "\n",
    "# Create a figure and axes objects\n",
    "fig, ax = plt.subplots(figsize=(10, 6))\n",
    "\n",
    "# Create a horizontal bar chart using Seaborn\n",
    "sns.barplot(data=top_10, y=\"country_name\", x=\"perception_corruption\", palette=\"crest_r\", ax=ax)\n",
    "\n",
    "# Set the title and axis labels\n",
    "ax.set_title(\"Perception of Corruption Scores for Top 10 Countries\", fontsize=16)\n",
    "ax.set_xlabel(\"Perception of Corruption Score\", fontsize=14)\n",
    "ax.set_ylabel(\"Country\", fontsize=14)\n",
    "\n",
    "# Set the ticks and tick labels\n",
    "ax.tick_params(axis='both', labelsize=12)\n",
    "\n",
    "# Display the plot\n",
    "plt.show()"
   ]
  },
  {
   "cell_type": "code",
   "execution_count": null,
   "id": "7ac78bb1",
   "metadata": {},
   "outputs": [],
   "source": [
    "#corruption vs happiness\n",
    "plt.rcParams['figure.figsize']= (15,7)\n",
    "plt.title('Plot between Happiness and Corruption')\n",
    "sns.scatterplot(x=df_happy1.happiness_score,y = df_happy1.perception_corruption ,hue= df_happy1.regional_indicator, s= 200);\n",
    "\n",
    "plt.legend(loc= 'lower left', fontsize ='14')\n",
    "plt.xlabel('Corruption')\n",
    "plt.ylabel('Happiness Score')"
   ]
  },
  {
   "cell_type": "code",
   "execution_count": null,
   "id": "716ab8a8",
   "metadata": {},
   "outputs": [],
   "source": [
    "# selecting the features and target variable\n",
    "features = ['logged_percapita', 'social_support', 'health_life', 'freedom_lifechoices', 'generosity', 'perception_corruption']\n",
    "target = 'happiness_score'\n",
    "\n",
    "# splitting the dataset into training and testing sets\n",
    "X_train, X_test, y_train, y_test = train_test_split(df_happy1[features], df_happy1[target], test_size=0.2, random_state=42)\n",
    "\n",
    "# training the model\n",
    "model = RandomForestRegressor(n_estimators=100, random_state=42)\n",
    "model.fit(X_train, y_train)\n",
    "\n",
    "# predicting the happiness score for 2022 of each country\n",
    "data_set_2022 = pd.read_csv(\"world-happiness-report-2021.csv\", usecols=['Country name', 'Logged GDP per capita', 'Social support', 'Healthy life expectancy', 'Freedom to make life choices', 'Generosity', 'Perceptions of corruption'])\n",
    "data_set_2022.columns = ['country_name', 'logged_percapita', 'social_support', 'health_life', 'freedom_lifechoices', 'generosity', 'perception_corruption']\n",
    "X_2022 = data_set_2022[features]\n",
    "y_2022_pred = model.predict(X_2022)\n",
    "\n",
    "# adding the predicted happiness score for 2022 to the dataset\n",
    "data_set_2022['Happiness score 2022'] = y_2022_pred\n",
    "\n",
    "# print the predicted happiness scores for 2022\n",
    "print(y_2022_pred)\n",
    "\n",
    "import seaborn as sns\n",
    "import matplotlib.pyplot as plt\n",
    "\n",
    "# create a correlation matrix\n",
    "corr = df_happy1.corr()\n",
    "\n",
    "# plot the heatmap\n",
    "sns.heatmap(corr, cmap='coolwarm', annot=True)\n",
    "\n",
    "# display the plot\n",
    "plt.show()\n",
    "\n"
   ]
  },
  {
   "cell_type": "code",
   "execution_count": null,
   "id": "147bae94",
   "metadata": {},
   "outputs": [],
   "source": [
    "# Decision Tree\n",
    "\n",
    "# Importing required libraries\n",
    "import pandas as pd\n",
    "from sklearn.tree import DecisionTreeClassifier\n",
    "from sklearn.model_selection import train_test_split\n",
    "from sklearn import metrics\n",
    "from sklearn.tree import plot_tree\n",
    "import matplotlib.pyplot as plt\n",
    "\n",
    "# Load the World Happiness Report 2021 dataset\n",
    "data = pd.read_csv(\"world-happiness-report-2021.csv\")\n",
    "\n",
    "# Select features and target variable\n",
    "X = data[['Logged GDP per capita', 'Social support', 'Healthy life expectancy', 'Freedom to make life choices', 'Generosity', 'Perceptions of corruption']]\n",
    "y = data['Ladder score'] > 5.5 # True if ladder score is greater than 5.5, False otherwise\n",
    "\n",
    "# Split the data into training and testing sets\n",
    "X_train, X_test, y_train, y_test = train_test_split(X, y, test_size=0.3, random_state=1)\n",
    "\n",
    "# Create a Decision Tree Classifier object\n",
    "clf = DecisionTreeClassifier()\n",
    "\n",
    "# Train the model using the training sets\n",
    "clf.fit(X_train, y_train)\n",
    "\n",
    "# Predict the class labels for the test set\n",
    "y_pred = clf.predict(X_test)\n",
    "\n",
    "# Model Accuracy, how often is the classifier correct?\n",
    "print(\"Accuracy:\", metrics.accuracy_score(y_test, y_pred))\n",
    "\n",
    "# Visualize the Decision Tree\n",
    "fig, ax = plt.subplots(figsize=(12, 8))\n",
    "plot_tree(clf, filled=True, ax=ax, feature_names=X.columns, class_names=['Low Score', 'High Score'])\n",
    "plt.show()"
   ]
  },
  {
   "cell_type": "code",
   "execution_count": null,
   "id": "a327e4c8",
   "metadata": {},
   "outputs": [],
   "source": [
    "# Random Forest\n",
    "\n",
    "# Importing required libraries\n",
    "import pandas as pd\n",
    "from sklearn.ensemble import RandomForestRegressor\n",
    "from sklearn.model_selection import train_test_split\n",
    "from sklearn import metrics\n",
    "\n",
    "# Load the World Happiness Report 2021 dataset\n",
    "data = pd.read_csv(\"world-happiness-report-2021.csv\")\n",
    "\n",
    "# Select features and target variable\n",
    "X = data[['Logged GDP per capita', 'Social support', 'Healthy life expectancy', 'Freedom to make life choices', 'Generosity', 'Perceptions of corruption']]\n",
    "y = data['Ladder score']\n",
    "\n",
    "# Split the data into training and testing sets\n",
    "X_train, X_test, y_train, y_test = train_test_split(X, y, test_size=0.3, random_state=1)\n",
    "\n",
    "# Create a Random Forest Regressor object\n",
    "clf = RandomForestRegressor()\n",
    "\n",
    "# Train the model using the training sets\n",
    "clf.fit(X_train, y_train)\n",
    "\n",
    "# Predict the target variable for the test set\n",
    "y_pred = clf.predict(X_test)\n",
    "\n",
    "# Model Accuracy, how well does the regressor predict the target variable?\n",
    "print(\"R2 score:\", metrics.r2_score(y_test, y_pred))"
   ]
  },
  {
   "cell_type": "code",
   "execution_count": null,
   "id": "37307981",
   "metadata": {},
   "outputs": [],
   "source": [
    "# Importing required libraries\n",
    "import pandas as pd\n",
    "from sklearn.neighbors import KNeighborsRegressor\n",
    "from sklearn.model_selection import train_test_split\n",
    "from sklearn import metrics\n",
    "\n",
    "# Load the World Happiness Report 2021 dataset\n",
    "data = pd.read_csv(\"world-happiness-report-2021.csv\")\n",
    "\n",
    "# Select features and target variable\n",
    "X = data[['Logged GDP per capita', 'Social support', 'Healthy life expectancy', 'Freedom to make life choices', 'Generosity', 'Perceptions of corruption']]\n",
    "y = data['Ladder score']\n",
    "\n",
    "# Split the data into training and testing sets\n",
    "X_train, X_test, y_train, y_test = train_test_split(X, y, test_size=0.3, random_state=1)\n",
    "\n",
    "# Create a KNN Regressor object\n",
    "clf = KNeighborsRegressor(n_neighbors=5)\n",
    "\n",
    "# Train the model using the training sets\n",
    "clf.fit(X_train, y_train)\n",
    "\n",
    "# Predict the target variable for the test set\n",
    "y_pred = clf.predict(X_test)\n",
    "\n",
    "# Model Accuracy, how well does the regressor predict the target variable?\n",
    "print(\"R2 score:\", metrics.r2_score(y_test, y_pred))"
   ]
  },
  {
   "cell_type": "code",
   "execution_count": null,
   "id": "bf167e49",
   "metadata": {},
   "outputs": [],
   "source": []
  }
 ],
 "metadata": {
  "kernelspec": {
   "display_name": "Python 3 (ipykernel)",
   "language": "python",
   "name": "python3"
  },
  "language_info": {
   "codemirror_mode": {
    "name": "ipython",
    "version": 3
   },
   "file_extension": ".py",
   "mimetype": "text/x-python",
   "name": "python",
   "nbconvert_exporter": "python",
   "pygments_lexer": "ipython3",
   "version": "3.9.7"
  }
 },
 "nbformat": 4,
 "nbformat_minor": 5
}
